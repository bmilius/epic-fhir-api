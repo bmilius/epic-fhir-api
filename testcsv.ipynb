{
 "cells": [
  {
   "cell_type": "code",
   "execution_count": 1,
   "id": "531d59ba",
   "metadata": {},
   "outputs": [],
   "source": [
    "import csv"
   ]
  },
  {
   "cell_type": "code",
   "execution_count": 2,
   "id": "bcd1457c",
   "metadata": {},
   "outputs": [],
   "source": [
    "def getCodesTab():\n",
    "    code_file = \"rxnorm_all.txt\"\n",
    "    codelist = []\n",
    "#     with open(code_file,'r', encoding='utf-8-sig') as codefile:\n",
    "    with open(code_file,'r') as codefile:\n",
    "        codes = csv.DictReader(codefile, delimiter='\\t')\n",
    "        for row in codes:\n",
    "            print(row)\n",
    "#             codelist.append(row['Code'])\n"
   ]
  },
  {
   "cell_type": "code",
   "execution_count": 7,
   "id": "14d63f23",
   "metadata": {},
   "outputs": [],
   "source": [
    "def getCodesCSV():\n",
    "    code_file = \"rxnorm_all.csv\"\n",
    "    codelist = []\n",
    "    with open(code_file,'r', encoding='utf-8-sig') as codefile:\n",
    "#     with open(code_file,'r') as codefile:\n",
    "        codes = csv.DictReader(codefile, delimiter=',')\n",
    "        for row in codes:\n",
    "#             print(row)\n",
    "             codelist.append(row['Code'])\n",
    "    return(codelist)\n"
   ]
  },
  {
   "cell_type": "code",
   "execution_count": 8,
   "id": "a3091d39",
   "metadata": {},
   "outputs": [],
   "source": [
    "def chunks(lst, n):\n",
    "    \"\"\"\"Yield successive n-sized chunks from lst.\"\"\"\n",
    "    for i in range(0, len(lst), n):\n",
    "        yield lst[i:i + n]"
   ]
  },
  {
   "cell_type": "code",
   "execution_count": 9,
   "id": "e1de1f0b",
   "metadata": {},
   "outputs": [],
   "source": [
    "def getAuthParams():\n",
    "    \"\"\"\n",
    "    Reads a 'authparm.file containing Authorization and Epic-Client-ID parameters for header\n",
    "    \"\"\"\n",
    "    with open('authparam.json', 'r') as infile:\n",
    "        authparam = json.load(infile)\n",
    "\n",
    "    authheaders = {'Authorization': authparam['Authorization'],\n",
    "                   'Epic-Client-ID': authparam['Epic-Client-ID']\n",
    "                   }\n",
    "    return(authheaders)"
   ]
  },
  {
   "cell_type": "code",
   "execution_count": 10,
   "id": "6984a9d2",
   "metadata": {},
   "outputs": [],
   "source": [
    "codelist = getCodesCSV()\n",
    "# print(codelist)\n"
   ]
  },
  {
   "cell_type": "code",
   "execution_count": 25,
   "id": "d377bdc9",
   "metadata": {},
   "outputs": [
    {
     "name": "stdout",
     "output_type": "stream",
     "text": [
      "\"code\": \"117055\"|\"code\": \"284679\"|\"code\": \"1594659\"|\"code\": \"828267\"|\"code\": \"1594663\"|\"code\": \"1594657\"|\"code\": \"1594660\"|\"code\": \"1656640\"|\"code\": \"1656628\"|\"code\": \"1656631\"|\"code\": \"1656635\"|\"code\": \"1164265\"|\"code\": \"1656629\"|\"code\": \"1656632\"|\"code\": \"1656637\"|\"code\": \"1172298\"|\"code\": \"1594662\"|\"code\": \"1204\"|\"code\": \"1011\"|\"code\": \"225741\"|\"code\": \"91601\"|\"code\": \"206289\"|\"code\": \"1165939\"|\"code\": \"2282515\"|\"code\": \"2282516\"|\"code\": \"2282519\"|\"code\": \"2282528\"|\"code\": \"2282514\"|\"code\": \"2282518\"|\"code\": \"1870646\"|\"code\": \"2282525\"|\"code\": \"2282527\"|\"code\": \"107050\"|\"code\": \"1177887\"|\"code\": \"358258\"|\"code\": \"356733\"|\"code\": \"1804993\"|\"code\": \"1804996\"|\"code\": \"402244\"|\"code\": \"1163075\"|\"code\": \"1804994\"|\"code\": \"1804997\"|\"code\": \"1187756\"|\"code\": \"1828\"|\"code\": \"284676\"|\"code\": \"203010\"|\"code\": \"284425\"|\"code\": \"332701\"|\"code\": \"564077\"|\"code\": \"105550\"|\"code\": \"317620\"|\"code\": \"564078\"|\"code\": \"105551\"|\"code\": \"315503\"|\"code\": \"574864\"|\"code\": \"1729356\"|\"code\": \"1151374\"|\"code\": \"1729351\"|\"code\": \"1729353\"|\"code\": \"1151375\"|\"code\": \"371165\"|\"code\": \"368542\"|\"code\": \"1151376\"|\"code\": \"1168702\"|\"code\": \"1185666\"|\"code\": \"1185667\"|\"code\": \"2105\"|\"code\": \"343027\"|\"code\": \"217357\"|\"code\": \"1173621\"|\"code\": \"1729367\"|\"code\": \"1729370\"|\"code\": \"105552\"|\"code\": \"337509\"|\"code\": \"564079\"|\"code\": \"596881\"|\"code\": \"340520\"|\"code\": \"378774\"|\"code\": \"1151413\"|\"code\": \"1151727\"|\"code\": \"370496\"|\"code\": \"491188\"|\"code\": \"1729368\"|\"code\": \"1729371\"|\"code\": \"3002\"|\"code\": \"202589\"|\"code\": \"202588\"|\"code\": \"1545988\"|\"code\": \"221085\"|\"code\": \"1156180\"|\"code\": \"377238\"|\"code\": \"358855\"|\"code\": \"563185\"|\"code\": \"102948\"|\"code\": \"438828\"|\"code\": \"1734918\"|\"code\": \"329664\"|\"code\": \"2386858\"|\"code\": \"1734920\"|\"code\": \"315746\"|\"code\": \"571074\"|\"code\": \"210570\"|\"code\": \"438830\"|\"code\": \"315747\"|\"code\": \"571139\"|\"code\": \"564082\"|\"code\": \"210639\"|\"code\": \"105555\"|\"code\": \"1734915\"|\"code\": \"438831\"|\"code\": \"1156181\"|\"code\": \"376666\"|\"code\": \"1734916\"|\"code\": \"1437967\"|\"code\": \"1156182\"|\"code\": \"371664\"|\"code\": \"367922\"|\"code\": \"368546\"|\"code\": \"1156183\"|\"code\": \"1174493\"|\"code\": \"1174494\"|\"code\": \"1176602\"|\"code\": \"1176603\"|\"code\": \"690313\"|\"code\": \"151319\"|\"code\": \"3041\"|\"code\": \"151577\"|\"code\": \"220177\"|\"code\": \"196337\"|\"code\": \"1942744\"|\"code\": \"1175506\"|\"code\": \"2285813\"|\"code\": \"2285807\"|\"code\": \"331779\"|\"code\": \"332422\"|\"code\": \"564102\"|\"code\": \"564515\"|\"code\": \"572983\"|\"code\": \"105580\"|\"code\": \"108359\"|\"code\": \"213044\"|\"code\": \"333668\"|\"code\": \"564516\"|\"code\": \"108360\"|\"code\": \"1151483\"|\"code\": \"371676\"|\"code\": \"362596\"|\"code\": \"363023\"|\"code\": \"362991\"|\"code\": \"544939\"|\"code\": \"1731354\"|\"code\": \"968805\"|\"code\": \"1942738\"|\"code\": \"1174486\"|\"code\": \"1179037\"|\"code\": \"2017575\"|\"code\": \"1311089\"|\"code\": \"1746523\"|\"code\": \"1746528\"|\"code\": \"1788946\"|\"code\": \"1746532\"|\"code\": \"1746525\"|\"code\": \"1746526\"|\"code\": \"1746530\"|\"code\": \"1746524\"|\"code\": \"1746529\"|\"code\": \"1746534\"|\"code\": \"1746531\"|\"code\": \"4179\"|\"code\": \"220347\"|\"code\": \"203058\"|\"code\": \"274342\"|\"code\": \"451835\"|\"code\": \"329753\"|\"code\": \"564108\"|\"code\": \"105593\"|\"code\": \"315912\"|\"code\": \"567639\"|\"code\": \"567640\"|\"code\": \"206831\"|\"code\": \"206832\"|\"code\": \"315913\"|\"code\": \"564107\"|\"code\": \"105592\"|\"code\": \"1157928\"|\"code\": \"376890\"|\"code\": \"362881\"|\"code\": \"362972\"|\"code\": \"1734339\"|\"code\": \"372132\"|\"code\": \"366233\"|\"code\": \"1157929\"|\"code\": \"1157930\"|\"code\": \"1178005\"|\"code\": \"1187877\"|\"code\": \"1187878\"|\"code\": \"1187879\"|\"code\": \"24698\"|\"code\": \"877487\"|\"code\": \"1165043\"|\"code\": \"1740863\"|\"code\": \"828708\"|\"code\": \"1165044\"|\"code\": \"393413\"|\"code\": \"828705\"|\"code\": \"328431\"|\"code\": \"1740862\"|\"code\": \"1165045\"|\"code\": \"6718\"|\"code\": \"151325\"|\"code\": \"1745086\"|\"code\": \"317646\"|\"code\": \"332190\"|\"code\": \"1740948\"|\"code\": \"446276\"|\"code\": \"1159787\"|\"code\": \"1740949\"|\"code\": \"1159788\"|\"code\": \"372756\"|\"code\": \"1159789\"|\"code\": \"226754\"|\"code\": \"121191\"|\"code\": \"2105824\"|\"code\": \"2105827\"|\"code\": \"2472325\"|\"code\": \"2273510\"|\"code\": \"2472328\"|\"code\": \"1927886\"|\"code\": \"2273513\"|\"code\": \"1657864\"|\"code\": \"2105831\"|\"code\": \"1657868\"|\"code\": \"2105835\"|\"code\": \"1927882\"|\"code\": \"1927883\"|\"code\": \"1185345\"|\"code\": \"316648\"|\"code\": \"573051\"|\"code\": \"1657866\"|\"code\": \"1927881\"|\"code\": \"1157967\"|\"code\": \"1657861\"|\"code\": \"1657863\"|\"code\": \"2105829\"|\"code\": \"2105828\"|\"code\": \"2105833\"|\"code\": \"2472326\"|\"code\": \"2273511\"|\"code\": \"2105830\"|\"code\": \"2105825\"|\"code\": \"1366537\"|\"code\": \"224924\"|\"code\": \"10473\"|\"code\": \"1919208\"|\"code\": \"1177866\"|\"code\": \"340261\"|\"code\": \"575228\"|\"code\": \"318248\"|\"code\": \"1660002\"|\"code\": \"1919206\"|\"code\": \"1919209\"|\"code\": \"1660008\"|\"code\": \"1919210\"|\"code\": \"1919211\"|\"code\": \"1156487\"|\"code\": \"375319\"|\"code\": \"363194\"|\"code\": \"1660003\"|\"code\": \"1919207\"|\"code\": \"38508\"|\"code\": \"336841\"|\"code\": \"393483\"|\"code\": \"1162765\"|\"code\": \"377198\"|\"code\": \"374186\"|\"code\": \"1162766\"|\"code\": \"1162767\"|\"code\": \"215007\"|\"code\": \"220706\"|\"code\": \"11065\"|\"code\": \"62427\"|\"code\": \"151610\"|\"code\": \"2477891\"|\"code\": \"153695\"|\"code\": \"544268\"|\"code\": \"152480\"|\"code\": \"153628\"|\"code\": \"1169904\"|\"code\": \"1169905\"|\"code\": \"1186788\"|\"code\": \"1186789\"|\"code\": \"632296\"|\"code\": \"632450\"|\"code\": \"632416\"|\"code\": \"858745\"|\"code\": \"858746\"|\"code\": \"858752\"|\"code\": \"858748\"|\"code\": \"858749\"|\"code\": \"384895\"|\"code\": \"360514\"|\"code\": \"858330\"|\"code\": \"452499\"|\"code\": \"360513\"|\"code\": \"858328\"|\"code\": \"452500\"|\"code\": \"452502\"|\"code\": \"858332\"|\"code\": \"858732\"\n"
     ]
    }
   ],
   "source": [
    "codechunks = list(chunks(codelist, 500))\n",
    "codestrlst=[]\n",
    "for index, item in enumerate(codechunks):\n",
    "#     print(item)\n",
    "    for chunkitem in item:\n",
    "#         print(chunkitem)\n",
    "        code = '\"code\": \"'+str(chunkitem)+'\"'\n",
    "        codestrlst.append(code)\n",
    "#         print(code\n",
    "codestr = \"|\".join(codestrlst)\n",
    "print(codestr)"
   ]
  },
  {
   "cell_type": "code",
   "execution_count": null,
   "id": "c67f224d",
   "metadata": {},
   "outputs": [],
   "source": []
  }
 ],
 "metadata": {
  "kernelspec": {
   "display_name": "Python 3 (ipykernel)",
   "language": "python",
   "name": "python3"
  },
  "language_info": {
   "codemirror_mode": {
    "name": "ipython",
    "version": 3
   },
   "file_extension": ".py",
   "mimetype": "text/x-python",
   "name": "python",
   "nbconvert_exporter": "python",
   "pygments_lexer": "ipython3",
   "version": "3.9.13"
  }
 },
 "nbformat": 4,
 "nbformat_minor": 5
}
