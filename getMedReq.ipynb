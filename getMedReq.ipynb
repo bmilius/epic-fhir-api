{
 "cells": [
  {
   "cell_type": "code",
   "execution_count": 1,
   "id": "6cb5ca7a",
   "metadata": {},
   "outputs": [],
   "source": [
    "import json\n",
    "import requests"
   ]
  },
  {
   "cell_type": "code",
   "execution_count": 2,
   "id": "2d8f5781",
   "metadata": {},
   "outputs": [],
   "source": [
    "resource = \"MedicationRequest\""
   ]
  },
  {
   "cell_type": "code",
   "execution_count": 3,
   "id": "b4d277c7",
   "metadata": {},
   "outputs": [],
   "source": [
    "if resource == \"MedicationRequest\": \n",
    "    parameters = (resource + \"?\"\n",
    "                  +\"_include=MedicationRequest:medicationReference&\"\n",
    "                  +\"_include=MedicationRequest:encounter&\"\n",
    "                  +\"_include=MedicationRequest:subject&\")\n",
    "#                  +\"_include:iterate=Medication:ingredient.itemReference:Medication&\")\n",
    "else:\n",
    "    parameters = resource + \"?\"\n",
    "fhirversion = \"R4\"\n",
    "baseurl = ('https://appmarket.epic.com/interconnect-amcurprd-username/api/FHIR/'+\n",
    "           fhirversion+\n",
    "           '/'+\n",
    "           parameters+\n",
    "           '_format=json')"
   ]
  },
  {
   "cell_type": "code",
   "execution_count": 4,
   "id": "c16fbc32",
   "metadata": {},
   "outputs": [
    {
     "name": "stdout",
     "output_type": "stream",
     "text": [
      "https://appmarket.epic.com/interconnect-amcurprd-username/api/FHIR/R4/MedicationRequest?_include=MedicationRequest:medicationReference&_include=MedicationRequest:encounter&_include=MedicationRequest:subject&_format=json\n"
     ]
    }
   ],
   "source": [
    "print(baseurl)"
   ]
  },
  {
   "cell_type": "code",
   "execution_count": 5,
   "id": "71fd8e33",
   "metadata": {},
   "outputs": [],
   "source": [
    "headers = {\"\"}"
   ]
  },
  {
   "cell_type": "code",
   "execution_count": 6,
   "id": "bb20570d",
   "metadata": {},
   "outputs": [
    {
     "name": "stdout",
     "output_type": "stream",
     "text": [
      "all .......................................................................................................................................................................................................................................................................................................................................................................................................................................\n",
      "done\n"
     ]
    }
   ],
   "source": [
    "# groups = {\"test2\"}\n",
    "groups = {\"all\"}\n",
    "# groups = {\"transplant\", \n",
    "#          \"inpatient\",\n",
    "#          \"oncology\",\n",
    "#          \"surgery\",\n",
    "#          \"bmt\"}\n",
    "\n",
    "for group in groups:\n",
    "    print(group, end=' ')\n",
    "    patient_file = \"patients_\"+group+\".txt\"\n",
    "    outfileprefix = resource+'_'+fhirversion+'/'+group+\"_\"+resource+\"_\"+fhirversion+\"_\"\n",
    "    with open(patient_file,'r') as infile:\n",
    "        patients = infile.readlines()\n",
    "    for patient in patients:\n",
    "        patient = patient.strip()\n",
    "#         print(patient)\n",
    "        url = baseurl + \"&patient=\" + patient\n",
    "#         print(url)\n",
    "        response = requests.get(url=url, headers=headers)\n",
    "        \n",
    "#         print(response.status_code)\n",
    "        if response.status_code == 200:\n",
    "            if json.loads(response.text)['total'] != 0:\n",
    "                fname = outfileprefix+patient+'.json'\n",
    "                with open(fname, 'w') as outfile:\n",
    "                    json.dump(response.json(), outfile, indent=4)\n",
    "                print(\".\", end='')\n",
    "\n",
    "        print(\".\", end='')\n",
    "    print(\"\")\n",
    "print(\"done\")\n",
    "#         print(\"patient json written to file {fn}\".format(fn=fname))"
   ]
  },
  {
   "cell_type": "code",
   "execution_count": null,
   "id": "0f3146a5",
   "metadata": {},
   "outputs": [],
   "source": []
  },
  {
   "cell_type": "code",
   "execution_count": null,
   "id": "e1eee483",
   "metadata": {},
   "outputs": [],
   "source": []
  }
 ],
 "metadata": {
  "kernelspec": {
   "display_name": "Python 3 (ipykernel)",
   "language": "python",
   "name": "python3"
  },
  "language_info": {
   "codemirror_mode": {
    "name": "ipython",
    "version": 3
   },
   "file_extension": ".py",
   "mimetype": "text/x-python",
   "name": "python",
   "nbconvert_exporter": "python",
   "pygments_lexer": "ipython3",
   "version": "3.10.8"
  },
  "vscode": {
   "interpreter": {
    "hash": "aee8b7b246df8f9039afb4144a1f6fd8d2ca17a180786b69acc140d282b71a49"
   }
  }
 },
 "nbformat": 4,
 "nbformat_minor": 5
}
