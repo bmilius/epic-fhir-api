{
 "cells": [
  {
   "cell_type": "code",
   "execution_count": 1,
   "id": "6cb5ca7a",
   "metadata": {},
   "outputs": [],
   "source": [
    "import json\n",
    "import requests"
   ]
  },
  {
   "cell_type": "code",
   "execution_count": 2,
   "id": "2d8f5781",
   "metadata": {},
   "outputs": [],
   "source": [
    "resource = \"MedicationRequest\""
   ]
  },
  {
   "cell_type": "code",
   "execution_count": 3,
   "id": "b4d277c7",
   "metadata": {},
   "outputs": [],
   "source": [
    "baseurl = 'https://apporchard.epic.com/interconnect-aocurprd-username/api/FHIR/R4/'+resource+'?_format=json'"
   ]
  },
  {
   "cell_type": "code",
   "execution_count": 4,
   "id": "71fd8e33",
   "metadata": {},
   "outputs": [],
   "source": [
    "headers = {\"\"}"
   ]
  },
  {
   "cell_type": "code",
   "execution_count": 6,
   "id": "bb20570d",
   "metadata": {},
   "outputs": [
    {
     "name": "stdout",
     "output_type": "stream",
     "text": [
      "oncology..........................................\n",
      "surgery..................................................\n",
      "transplant.....................................\n",
      "bmt......\n",
      "inpatient.....................................................................\n",
      "done\n"
     ]
    }
   ],
   "source": [
    "groups = {\"transplant\", \n",
    "         \"inpatient\",\n",
    "         \"oncology\",\n",
    "         \"surgery\",\n",
    "         \"bmt\"}\n",
    "\n",
    "for group in groups:\n",
    "    print(group, end='')\n",
    "    patient_file = \"patients_\"+group+\".txt\"\n",
    "    outfileprefix = group+\"_\"+resource+\"_\"\n",
    "    with open(patient_file,'r') as infile:\n",
    "        patients = infile.readlines()\n",
    "    for patient in patients:\n",
    "        patient = patient.strip()\n",
    "#         print(patient)\n",
    "        url = baseurl + \"&patient=\" + patient\n",
    "        response = requests.get(url=url, headers=headers)\n",
    "        fname = outfileprefix+patient+'.json'\n",
    "        with open(fname, 'w') as outfile:\n",
    "            json.dump(response.json(), outfile, indent=4)\n",
    "        print(\".\", end='')\n",
    "    print(\"\")\n",
    "print(\"done\")\n",
    "#         print(\"patient json written to file {fn}\".format(fn=fname))"
   ]
  },
  {
   "cell_type": "code",
   "execution_count": null,
   "id": "0f3146a5",
   "metadata": {},
   "outputs": [],
   "source": []
  }
 ],
 "metadata": {
  "kernelspec": {
   "display_name": "Python 3 (ipykernel)",
   "language": "python",
   "name": "python3"
  },
  "language_info": {
   "codemirror_mode": {
    "name": "ipython",
    "version": 3
   },
   "file_extension": ".py",
   "mimetype": "text/x-python",
   "name": "python",
   "nbconvert_exporter": "python",
   "pygments_lexer": "ipython3",
   "version": "3.9.13"
  }
 },
 "nbformat": 4,
 "nbformat_minor": 5
}
